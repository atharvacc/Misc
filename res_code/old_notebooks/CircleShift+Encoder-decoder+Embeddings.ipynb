{
 "cells": [
  {
   "cell_type": "code",
   "execution_count": 1,
   "metadata": {},
   "outputs": [],
   "source": [
    "import numpy as np\n",
    "import cv2\n",
    "from vidstab import VidStab\n",
    "from os import listdir\n",
    "import os\n",
    "import pandas as pd\n",
    "import tensorflow as tf\n",
    "import matplotlib.pyplot as plt\n",
    "tf.compat.v1.disable_eager_execution()\n",
    "import skimage \n",
    "from skimage import data, color\n",
    "from skimage.transform import hough_circle, hough_circle_peaks\n",
    "from skimage.feature import canny\n",
    "from skimage.draw import circle_perimeter\n",
    "from progressbar import ProgressBar\n",
    "import seaborn as sns\n",
    "sns.set_style(\"whitegrid\")"
   ]
  },
  {
   "cell_type": "markdown",
   "metadata": {},
   "source": [
    "##### Same as Encoder decoder however, instead of extracting a fixed radius from center point, we use the radius provided by  Hough transform and shift the circle to the center "
   ]
  },
  {
   "cell_type": "code",
   "execution_count": 2,
   "metadata": {},
   "outputs": [],
   "source": [
    "### Helper Methods \n",
    "def clean_str(name):\n",
    "    return name.split(\"/ima\")[0]\n",
    "\n",
    "\n",
    "def last_4chars(x):\n",
    "    suf = x.split(\"_\")[1]\n",
    "    inte = int(suf.split(\".\")[0])\n",
    "    return inte\n",
    "\n",
    "def getFrame(sec,path,stable_vid_name,count):\n",
    "    vidcap = cv2.VideoCapture(stable_vid_name)\n",
    "    vidcap.set(cv2.CAP_PROP_POS_MSEC,sec*1000)\n",
    "    hasFrames,image = vidcap.read()\n",
    "    if hasFrames:\n",
    "        cv2.imwrite(path+\"/image_\"+str(count)+\".jpg\", image)     # save frame as JPG file\n",
    "    return hasFrames\n",
    "\n",
    "    \n",
    "def list_files1(directory, extension):\n",
    "    \"\"\"\n",
    "    list_files1: Find files with a certain extension in the directory and return the names in a list\n",
    "            Args:\n",
    "                directory: Directory to be searched\n",
    "                extension: the extension of the files\n",
    "            Returns:\n",
    "                List of files with the extension within the directory\n",
    "    \"\"\"\n",
    "    return list(( (directory + f) for f in listdir(directory) if f.endswith('.' + extension)))\n",
    "\n",
    "def generate_frames_vid():\n",
    "    \"\"\"\n",
    "    generate_frames_vid: Generates frames for every video in listvideos, and save them in folder with\n",
    "                         name vidName/\n",
    "                    Args:\n",
    "                        listvideos: List containing the path to the video files\n",
    "                    Returns:\n",
    "                        None\n",
    "    \"\"\"\n",
    "    try:\n",
    "        os.mkdir(\"StableFrames\", 755)\n",
    "    except OSError:\n",
    "        pass\n",
    "    try:\n",
    "        os.mkdir(\"StableFrames/videos\", 755)\n",
    "    except OSError:\n",
    "        pass\n",
    "    listvideos = list_files1('videos/','avi')\n",
    "    for video in listvideos:\n",
    "        path = \"StableFrames/\" + video.split('.avi')[0]\n",
    "        try:\n",
    "            os.mkdir(path, 755)\n",
    "        except OSError:\n",
    "            pass\n",
    "        stable_vid_name = 'stable_video.avi'\n",
    "        stabilizer = VidStab(kp_method='DENSE')\n",
    "        stabilizer.stabilize(input_path=video, output_path=stable_vid_name)\n",
    "        sec = 0\n",
    "        frameRate = 0.5 #//it will capture image in each 0.5 second\n",
    "        count=1\n",
    "        success = getFrame(sec,path,stable_vid_name,count)\n",
    "        while success:\n",
    "            count = count + 1\n",
    "            sec = sec + frameRate\n",
    "            sec = round(sec, 2)\n",
    "            success = getFrame(sec,path,stable_vid_name,count)\n",
    " \n",
    "### Generate train_test data\n",
    "def generate_train_testdata(k):\n",
    "    \"\"\"\n",
    "    generate_train_testdata: Generate table for path to input and output data\n",
    "                        Args:\n",
    "                            k: Distance for the next frame\n",
    "                        Returns:\n",
    "                             df containg the input path and the corresponding output predicted\n",
    "    \"\"\"\n",
    "    data = pd.DataFrame(columns=[\"input\", \"output\"])\n",
    "    directory = \"StableFrames/videos\"\n",
    "    subdir = listdir(directory)\n",
    "    for subd in subdir:\n",
    "        images = sorted(listdir(directory + \"/\" + subdir[0]), key=last_4chars)\n",
    "        for idx, img in enumerate(images):\n",
    "            base_path = directory + \"/\" + subd + \"/\"\n",
    "            input_img = base_path + img\n",
    "            output_img = base_path + \"image_\" + str(idx+k+1) + \".jpg\"\n",
    "            if os.path.isfile(output_img):\n",
    "                temp_df = pd.DataFrame([[input_img,output_img]], columns=[\"input\", \"output\"])\n",
    "                data =  pd.concat((data,temp_df))\n",
    "    return data     \n",
    "\n",
    "def read_from_path(X):\n",
    "    \"\"\"\n",
    "    read_from_path: Read images from path, preprocess, and append to numpy data frame.\n",
    "                Args:\n",
    "                    X: List containing all the paths\n",
    "                Returns:\n",
    "                    data: numpy array containing all of the data\n",
    "    \"\"\"\n",
    "    img_size = 128\n",
    "    data = np.empty(shape = [1,img_size,img_size])\n",
    "    pbar = ProgressBar()\n",
    "    print(\"Starting Reading and Preprocessing.\\n\")\n",
    "    for i in pbar(X):\n",
    "        img = cv2.imread(i, 0)\n",
    "        #img = cv2.normalize(img, None, alpha=0, beta=1, norm_type=cv2.NORM_MINMAX, dtype=cv2.CV_32F)\n",
    "        img = preprocess_image(img)\n",
    "        img = cv2.resize(img, (img_size,img_size))\n",
    "        img = img.reshape(1,img_size,img_size)\n",
    "        data = np.append(data,img, axis = 0)\n",
    "    print(\"Done Reading and Preprocessing.\\n\")\n",
    "    data = data.reshape(len(X)+1,img_size,img_size,1)\n",
    "    return data\n",
    "\n",
    "def get_best_circle(img1):\n",
    "    \"\"\"\n",
    "    get_best_circle: Use hough transform to find the best circle\n",
    "                Args: \n",
    "                     img1: Grayscale image on which to find the circle\n",
    "                Returns:\n",
    "                    circle: list containing the x-coords, y-coords of the center\n",
    "                            and radius for the circle. \n",
    "    \"\"\"\n",
    "    edges = canny(img1, sigma=2, low_threshold=10, high_threshold=50)\n",
    "    hough_radii = np.arange(50, 150, 2)\n",
    "    hough_res = hough_circle(edges, hough_radii)\n",
    "    accums, cx, cy, radii = hough_circle_peaks(hough_res, hough_radii,\n",
    "                                               total_num_peaks=3)\n",
    "    max_idx = np.argmax(radii)\n",
    "    max_x = cx[max_idx]\n",
    "    max_y = cy[max_idx]\n",
    "    max_radii = radii[max_idx]\n",
    "    return ([max_x, max_y, max_radii])\n",
    "\n",
    "def preprocess_image(img1):\n",
    "    \"\"\"\n",
    "    preprocess_image: Find the relevant information, and shift to the center\n",
    "    \n",
    "                Args:\n",
    "                    img1: Image on which to perform the preprocessing\n",
    "                Returns:\n",
    "                    masked_img: Image with preprocessing done\n",
    "    \n",
    "    \"\"\"\n",
    "    x_coord, y_coord, radius = get_best_circle(img1)\n",
    "    \n",
    "    height,width = img1.shape\n",
    "    mask = np.zeros((height,width), np.uint8) \n",
    "    x,y = skimage.draw.circle(y_coord,x_coord,radius)\n",
    "    mask[x,y] = 1\n",
    "    masked_data = mask*img1\n",
    "    \n",
    "    M = np.float32([[1,0,250-x_coord],[0,1,250-y_coord]])\n",
    "    masked_img = cv2.warpAffine(masked_data,M,(height,width))\n",
    "    return masked_img\n",
    "    \n",
    "\n",
    "def get_layers(mainModel, start_idx, end_idx, need_summary= False):\n",
    "    \"\"\"\n",
    "    get_layers: get Layers from start_idx to end_idx, and return a new model extracts layers\n",
    "                from start_idx to end_idx\n",
    "            Args:\n",
    "                mainModel: The model from which to extract layers\n",
    "                start_idx: start_idx to extract\n",
    "                end_idx  : end_idx to extract\n",
    "            need_summary : If we need the summary\n",
    "            Returns:\n",
    "                model: New Model with extracted layers\n",
    "    \n",
    "    \"\"\"\n",
    "    model = tf.keras.Sequential()\n",
    "    for i in range(start_idx, end_idx+1):\n",
    "        model.add(mainModel.get_layer(index = i))\n",
    "    if(need_summary):\n",
    "        model.summary()\n",
    "    return model\n",
    "    \n",
    "def get_embeddings(train_imgs, mainModel, start_idx, end_idx):\n",
    "    \"\"\"\n",
    "    get_embeddings: Get embeddings for train_imgs after extracting layers from mainModel\n",
    "                    from start_idx to end_idx\n",
    "                Args:\n",
    "                    train_imgs: Images to get embeddings from\n",
    "                    mainModel: The model from which to extract layers\n",
    "                    start_idx: start_idx to extract\n",
    "                    end_idx  : end_idx to extract\n",
    "                Returns:\n",
    "                    nothing\n",
    "    \"\"\"\n",
    "    m = train_imgs.shape[0]\n",
    "    embedding_model = get_layers(mainModel, 0,5)\n",
    "    embeddings = embedding_model.predict(train_imgs)\n",
    "    embeddings = embeddings.reshape(m,2)\n",
    "    return embeddings\n",
    "\n",
    "\n",
    "        \n",
    "def only_read(X):\n",
    "    \"\"\"\n",
    "    read_from_path: Read images from path, preprocess, and append to numpy data frame.\n",
    "                Args:\n",
    "                    X: List containing all the paths\n",
    "                Returns:\n",
    "                    data: numpy array containing all of the data\n",
    "    \"\"\"\n",
    "    img_size = 128\n",
    "    data = np.empty(shape = [1,img_size,img_size])\n",
    "    pbar = ProgressBar()\n",
    "    print(\"Starting Reading and Preprocessing.\\n\")\n",
    "    for i in pbar(X):\n",
    "        img = cv2.imread(i, 0)\n",
    "        #img = cv2.normalize(img, None, alpha=0, beta=1, norm_type=cv2.NORM_MINMAX, dtype=cv2.CV_32F)\n",
    "        img = preprocess_image(img)\n",
    "        img = cv2.resize(img, (img_size,img_size))\n",
    "        img = img.reshape(1,img_size,img_size)\n",
    "        data = np.append(data,img, axis = 0)\n",
    "    print(\"Done Reading and Preprocessing.\\n\")\n",
    "    data = data.reshape(len(X)+1,img_size,img_size,1)\n",
    "    return data\n"
   ]
  },
  {
   "cell_type": "code",
   "execution_count": 3,
   "metadata": {},
   "outputs": [],
   "source": [
    "#generate_frames_vid()\n",
    "train_test_data = generate_train_testdata(1)  "
   ]
  },
  {
   "cell_type": "code",
   "execution_count": 4,
   "metadata": {},
   "outputs": [
    {
     "name": "stderr",
     "output_type": "stream",
     "text": [
      "  0% |                                                                        |\r"
     ]
    },
    {
     "name": "stdout",
     "output_type": "stream",
     "text": [
      "Starting Reading and Preprocessing.\n",
      "\n"
     ]
    },
    {
     "name": "stderr",
     "output_type": "stream",
     "text": [
      "100% |########################################################################|\n",
      "  0% |                                                                        |\r"
     ]
    },
    {
     "name": "stdout",
     "output_type": "stream",
     "text": [
      "Done Reading and Preprocessing.\n",
      "\n",
      "Starting Reading and Preprocessing.\n",
      "\n"
     ]
    },
    {
     "name": "stderr",
     "output_type": "stream",
     "text": [
      "100% |########################################################################|\r"
     ]
    },
    {
     "name": "stdout",
     "output_type": "stream",
     "text": [
      "Done Reading and Preprocessing.\n",
      "\n"
     ]
    },
    {
     "name": "stderr",
     "output_type": "stream",
     "text": [
      "\n"
     ]
    }
   ],
   "source": [
    "inp = train_test_data.iloc[:,0].values.tolist()\n",
    "inp_d = read_from_path(inp)\n",
    "out = train_test_data.iloc[:,1].values.tolist()\n",
    "out_d = read_from_path(out)\n",
    "\n",
    "#Get shape\n",
    "m = inp_d.shape[0]\n",
    "img_size = inp_d.shape[1]\n",
    "\n",
    "\n",
    "inp_d = inp_d[1:m,:,:,0].reshape(m-1,img_size,img_size,1)\n",
    "out_d = out_d[1:m,:,:,0].reshape(m-1,img_size,img_size,1)"
   ]
  },
  {
   "cell_type": "code",
   "execution_count": 5,
   "metadata": {},
   "outputs": [],
   "source": [
    "def encoder_decoder(img_size):\n",
    "    model = tf.keras.Sequential()\n",
    "    ###Encoder\n",
    "    model.add(tf.keras.layers.Conv2D(filters = 64, kernel_size = 6,strides=2, padding = \"valid\",\n",
    "                                     activation = \"relu\", input_shape = (img_size,img_size,1),\n",
    "                                     kernel_initializer = tf.keras.initializers.glorot_normal(seed=15),\n",
    "                                     name= \"layer1\"))\n",
    "    model.add(tf.keras.layers.MaxPool2D(3, strides=2, padding=\"valid\", name = \"pool1\"))\n",
    "    model.add(tf.keras.layers.Conv2D(filters =  12, kernel_size = 6,strides=2, padding = \"valid\",\n",
    "                                     activation = \"relu\",\n",
    "                                     kernel_initializer = tf.keras.initializers.glorot_normal(seed=15),\n",
    "                                     name= \"layer2\"))\n",
    "    model.add(tf.keras.layers.MaxPool2D(3, strides=2, padding=\"valid\", name = \"pool2\"))\n",
    "    \n",
    "    model.add(tf.keras.layers.Reshape((1,432)))\n",
    "    model.add(tf.keras.layers.Dense(2, activation = \"relu\", \n",
    "                                    kernel_initializer = tf.keras.initializers.glorot_normal(seed=15)))\n",
    "    model.add(tf.keras.layers.Dense(16384, activation = \"relu\",\n",
    "                                    kernel_initializer = tf.keras.initializers.glorot_normal(seed=15)))\n",
    "    model.add(tf.keras.layers.Reshape((img_size,img_size,1)))\n",
    "    model.summary()\n",
    "    model.compile(optimizer=tf.keras.optimizers.Adam(0.001),\n",
    "              loss='mean_squared_error',\n",
    "              metrics=['mae'])\n",
    "\n",
    "    return model"
   ]
  },
  {
   "cell_type": "code",
   "execution_count": 6,
   "metadata": {},
   "outputs": [
    {
     "name": "stdout",
     "output_type": "stream",
     "text": [
      "WARNING:tensorflow:From /Users/atharvachalke/miniconda2/envs/CP/lib/python3.7/site-packages/tensorflow_core/python/ops/resource_variable_ops.py:1635: calling BaseResourceVariable.__init__ (from tensorflow.python.ops.resource_variable_ops) with constraint is deprecated and will be removed in a future version.\n",
      "Instructions for updating:\n",
      "If using Keras pass *_constraint arguments to layers.\n",
      "Model: \"sequential\"\n",
      "_________________________________________________________________\n",
      "Layer (type)                 Output Shape              Param #   \n",
      "=================================================================\n",
      "layer1 (Conv2D)              (None, 62, 62, 64)        2368      \n",
      "_________________________________________________________________\n",
      "pool1 (MaxPooling2D)         (None, 30, 30, 64)        0         \n",
      "_________________________________________________________________\n",
      "layer2 (Conv2D)              (None, 13, 13, 12)        27660     \n",
      "_________________________________________________________________\n",
      "pool2 (MaxPooling2D)         (None, 6, 6, 12)          0         \n",
      "_________________________________________________________________\n",
      "reshape (Reshape)            (None, 1, 432)            0         \n",
      "_________________________________________________________________\n",
      "dense (Dense)                (None, 1, 2)              866       \n",
      "_________________________________________________________________\n",
      "dense_1 (Dense)              (None, 1, 16384)          49152     \n",
      "_________________________________________________________________\n",
      "reshape_1 (Reshape)          (None, 128, 128, 1)       0         \n",
      "=================================================================\n",
      "Total params: 80,046\n",
      "Trainable params: 80,046\n",
      "Non-trainable params: 0\n",
      "_________________________________________________________________\n"
     ]
    }
   ],
   "source": [
    "encoder = encoder_decoder(128)"
   ]
  },
  {
   "cell_type": "code",
   "execution_count": 7,
   "metadata": {},
   "outputs": [
    {
     "data": {
      "text/plain": [
       "<tensorflow.python.keras.callbacks.History at 0x14b8afa10>"
      ]
     },
     "execution_count": 7,
     "metadata": {},
     "output_type": "execute_result"
    }
   ],
   "source": [
    "\n",
    "batch_size = 32\n",
    "epochs = 500\n",
    "validation_split = 0.1\n",
    "encoder.fit(x = inp_d, y = out_d, batch_size = batch_size, epochs=epochs,\n",
    "            validation_split=validation_split, verbose=0)\n"
   ]
  },
  {
   "cell_type": "code",
   "execution_count": 30,
   "metadata": {},
   "outputs": [
    {
     "name": "stdout",
     "output_type": "stream",
     "text": [
      "Training Loss is :  733.945254952567\n",
      "Validation loss is :  835.5982666015625\n",
      "train Mae loss is :  8.595466\n",
      "val mae is :  9.487778\n"
     ]
    }
   ],
   "source": [
    "print(\"Training Loss is : \", encoder.history.history['loss'][499])\n",
    "print(\"Validation loss is : \",encoder.history.history['val_loss'][499])\n",
    "print(\"train Mae loss is : \",encoder.history.history['mae'][499])\n",
    "print(\"val mae is : \", encoder.history.history['val_mae'][499])"
   ]
  },
  {
   "cell_type": "code",
   "execution_count": 8,
   "metadata": {},
   "outputs": [
    {
     "data": {
      "image/png": "[encoded data removed]",
      "text/plain": [
       "<Figure size 432x288 with 1 Axes>"
      ]
     },
     "metadata": {},
     "output_type": "display_data"
    }
   ],
   "source": [
    "## Get embeddings\n",
    "embeds = get_embeddings(inp_d, encoder, 0,5)\n",
    "vid_names  = pd.get_dummies(train_test_data.input.apply(clean_str)).values\n",
    "vid_class = vid_names.argmax(axis=1)\n",
    "## Scatter plot for embeddings \n",
    "fig, ax = plt.subplots()\n",
    "scatter = ax.scatter(embeds[:,0], embeds[:,1], c=vid_class, cmap=\"Set1\")\n",
    "legend1 = ax.legend(*scatter.legend_elements(), loc=\"lower left\", title=\"Classes\")\n"
   ]
  },
  {
   "cell_type": "code",
   "execution_count": 9,
   "metadata": {},
   "outputs": [
    {
     "data": {
      "text/plain": [
       "<matplotlib.image.AxesImage at 0x14d2cee50>"
      ]
     },
     "execution_count": 9,
     "metadata": {},
     "output_type": "execute_result"
    },
    {
     "data": {
      "image/png": "[encoded data removed]",
      "text/plain": [
       "<Figure size 1080x1080 with 3 Axes>"
      ]
     },
     "metadata": {},
     "output_type": "display_data"
    }
   ],
   "source": [
    "idx = 1\n",
    "input_img = inp_d[idx,:,:,0].reshape(1,img_size,img_size,1)\n",
    "output_img = out_d[idx,:,:,0]\n",
    "pred = encoder.predict(input_img).reshape(img_size,img_size)\n",
    "plt.figure(figsize=(15,15))\n",
    "plt.subplot(1,3,1)\n",
    "plt.title(\"Input Image\")\n",
    "plt.imshow(input_img.reshape(img_size,img_size),cmap=\"gray\")\n",
    "plt.subplot(1,3,2)\n",
    "plt.title(\"Actual output\")\n",
    "plt.imshow(output_img,cmap=\"gray\")\n",
    "plt.subplot(1,3,3)\n",
    "plt.title(\"Prediction\")\n",
    "plt.imshow(pred,cmap=\"gray\")"
   ]
  },
  {
   "cell_type": "code",
   "execution_count": null,
   "metadata": {},
   "outputs": [],
   "source": []
  },
  {
   "cell_type": "code",
   "execution_count": null,
   "metadata": {},
   "outputs": [],
   "source": []
  },
  {
   "cell_type": "code",
   "execution_count": null,
   "metadata": {},
   "outputs": [],
   "source": []
  },
  {
   "cell_type": "code",
   "execution_count": null,
   "metadata": {},
   "outputs": [],
   "source": []
  },
  {
   "cell_type": "code",
   "execution_count": null,
   "metadata": {},
   "outputs": [],
   "source": []
  },
  {
   "cell_type": "code",
   "execution_count": null,
   "metadata": {},
   "outputs": [],
   "source": []
  },
  {
   "cell_type": "code",
   "execution_count": null,
   "metadata": {},
   "outputs": [],
   "source": []
  }
 ],
 "metadata": {
  "kernelspec": {
   "display_name": "Python 3",
   "language": "python",
   "name": "python3"
  },
  "language_info": {
   "codemirror_mode": {
    "name": "ipython",
    "version": 3
   },
   "file_extension": ".py",
   "mimetype": "text/x-python",
   "name": "python",
   "nbconvert_exporter": "python",
   "pygments_lexer": "ipython3",
   "version": "3.7.6"
  }
 },
 "nbformat": 4,
 "nbformat_minor": 2
}
